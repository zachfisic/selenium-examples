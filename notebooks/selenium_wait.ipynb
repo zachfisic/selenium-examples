{
 "cells": [
  {
   "cell_type": "markdown",
   "id": "51715c55",
   "metadata": {},
   "source": [
    "There are times, when using Selenium, where we must wait for a period of time to pass before we're able to extract information from our response. There are a few ways to accomplish this. First, let's set our configuration"
   ]
  },
  {
   "cell_type": "code",
   "execution_count": 6,
   "id": "af2a806c",
   "metadata": {},
   "outputs": [],
   "source": [
    "from selenium import webdriver\n",
    "from selenium.webdriver.chrome.service import Service\n",
    "from selenium.webdriver.chrome.options import Options\n",
    "from webdriver_manager.chrome import ChromeDriverManager\n",
    "\n",
    "# set options for headless browser\n",
    "options = Options()\n",
    "options.headless = True\n",
    "options.add_argument(\"--window-size=1920,1200\")\n",
    "\n",
    "DRIVER_PATH = '/usr/local/bin/chromedriver'"
   ]
  },
  {
   "cell_type": "markdown",
   "id": "91316c70",
   "metadata": {},
   "source": [
    "Our first method is to use `time.sleep()`, which isn't part of Selenium but is a common pattern when trying to halt execution before finding elements. It isn't recommended however, since we aren't handling timeouts and there are better methods available to us."
   ]
  },
  {
   "cell_type": "code",
   "execution_count": 7,
   "id": "c97d0407",
   "metadata": {},
   "outputs": [
    {
     "name": "stderr",
     "output_type": "stream",
     "text": [
      "\n",
      "\n",
      "====== WebDriver manager ======\n",
      "Current google-chrome version is 97.0.4692\n",
      "Get LATEST chromedriver version for 97.0.4692 google-chrome\n",
      "Driver [/Users/zach/.wdm/drivers/chromedriver/mac64/97.0.4692.71/chromedriver] found in cache\n"
     ]
    },
    {
     "name": "stdout",
     "output_type": "stream",
     "text": [
      "True\n"
     ]
    }
   ],
   "source": [
    "import time\n",
    "from selenium.webdriver.common.by import By\n",
    "\n",
    "url = 'https://rehabs.com/'\n",
    "xpath = '/html/body/div[1]/div[2]/header/section/div/div[3]/div/button/span'\n",
    "\n",
    "driver = webdriver.Chrome(service=Service(ChromeDriverManager().install()), options=options)\n",
    "\n",
    "response = driver.get(url)\n",
    "elem = driver.find_element(By.XPATH, xpath)\n",
    "while not elem:\n",
    "    print('element not found...')\n",
    "    elem = driver.find_element(By.XPATH, xpath)\n",
    "    time.sleep(10)\n",
    "print(elem.text == 'Helpline Information')\n",
    "\n",
    "driver.quit()"
   ]
  },
  {
   "cell_type": "markdown",
   "id": "26cdc6a5",
   "metadata": {},
   "source": [
    "The second method we can use is called an implicit wait. With this approach, the WebDriver polls the DOM for a certain duration when trying to find ANY element. This can be useful when certain elements on the webpage are not available immediately and need some time to load.\n",
    "\n",
    "Implicit waiting for elements to appear is disabled by default and will need to be manually enabled on a per-session basis. **Mixing explicit waits and implicit waits is not recommended** and will cause unintended consequences, namely waits sleeping for the maximum time even if the element is available or condition is true."
   ]
  },
  {
   "cell_type": "code",
   "execution_count": 8,
   "id": "f4841ec3",
   "metadata": {},
   "outputs": [
    {
     "name": "stderr",
     "output_type": "stream",
     "text": [
      "\n",
      "\n",
      "====== WebDriver manager ======\n",
      "Current google-chrome version is 97.0.4692\n",
      "Get LATEST chromedriver version for 97.0.4692 google-chrome\n",
      "Driver [/Users/zach/.wdm/drivers/chromedriver/mac64/97.0.4692.71/chromedriver] found in cache\n"
     ]
    },
    {
     "name": "stdout",
     "output_type": "stream",
     "text": [
      "True\n"
     ]
    }
   ],
   "source": [
    "driver = webdriver.Chrome(service=Service(ChromeDriverManager().install()), options=options)\n",
    "\n",
    "driver.implicitly_wait(10)\n",
    "driver.get(url)\n",
    "elem = driver.find_element(By.XPATH, xpath)\n",
    "print(elem.text == 'Helpline Information')\n",
    "\n",
    "driver.quit()"
   ]
  },
  {
   "cell_type": "markdown",
   "id": "ea3d8181",
   "metadata": {},
   "source": [
    "The third approach is to use an explicit wait. Here, the WebDriver is directed to wait until a certain condition occurs before proceeding, freezing the current thread. The condition is called with a certain frequency until the timeout of the wait is elapsed. This means that for as long as the condition returns a falsy value, it will keep trying and waiting.\n",
    "\n",
    "Explicit wait is intelligent, but can only be applied against elements you've specified. It's seen an improvement on implicit wait since it allows the program to pause for dynamically loaded elements. With implicit waits, the browser will always wait for the same amount of time before trying to find any element."
   ]
  },
  {
   "cell_type": "code",
   "execution_count": 11,
   "id": "f2bfc700",
   "metadata": {},
   "outputs": [
    {
     "name": "stderr",
     "output_type": "stream",
     "text": [
      "\n",
      "\n",
      "====== WebDriver manager ======\n",
      "Current google-chrome version is 97.0.4692\n",
      "Get LATEST chromedriver version for 97.0.4692 google-chrome\n",
      "Driver [/Users/zach/.wdm/drivers/chromedriver/mac64/97.0.4692.71/chromedriver] found in cache\n"
     ]
    },
    {
     "ename": "TimeoutException",
     "evalue": "Message: \n",
     "output_type": "error",
     "traceback": [
      "\u001b[0;31m---------------------------------------------------------------------------\u001b[0m",
      "\u001b[0;31mTimeoutException\u001b[0m                          Traceback (most recent call last)",
      "Input \u001b[0;32mIn [11]\u001b[0m, in \u001b[0;36m<module>\u001b[0;34m\u001b[0m\n\u001b[1;32m     23\u001b[0m form_element \u001b[38;5;241m=\u001b[39m wait\u001b[38;5;241m.\u001b[39muntil(EC\u001b[38;5;241m.\u001b[39mpresence_of_element_located((By\u001b[38;5;241m.\u001b[39mID, \u001b[38;5;124m'\u001b[39m\u001b[38;5;124mvob-form\u001b[39m\u001b[38;5;124m'\u001b[39m)))\n\u001b[1;32m     26\u001b[0m \u001b[38;5;66;03m# Determine whether an element has been added to the DOM and is visible\u001b[39;00m\n\u001b[1;32m     27\u001b[0m \u001b[38;5;66;03m# Visible represents elements that can be displayed and are larger than 0 in width and height. Return boolean\u001b[39;00m\n\u001b[0;32m---> 28\u001b[0m element_is_visible \u001b[38;5;241m=\u001b[39m \u001b[43mwait\u001b[49m\u001b[38;5;241;43m.\u001b[39;49m\u001b[43muntil\u001b[49m\u001b[43m(\u001b[49m\u001b[43mEC\u001b[49m\u001b[38;5;241;43m.\u001b[39;49m\u001b[43mvisibility_of_element_located\u001b[49m\u001b[43m(\u001b[49m\u001b[43m(\u001b[49m\u001b[43mBy\u001b[49m\u001b[38;5;241;43m.\u001b[39;49m\u001b[43mID\u001b[49m\u001b[43m,\u001b[49m\u001b[43m \u001b[49m\u001b[38;5;124;43m'\u001b[39;49m\u001b[38;5;124;43mvob-form\u001b[39;49m\u001b[38;5;124;43m'\u001b[39;49m\u001b[43m)\u001b[49m\u001b[43m)\u001b[49m\u001b[43m)\u001b[49m\n\u001b[1;32m     31\u001b[0m \u001b[38;5;66;03m# Determine whether an element is visible (larger than 0 in width and height) and if so return the element.\u001b[39;00m\n\u001b[1;32m     32\u001b[0m form_element \u001b[38;5;241m=\u001b[39m wait\u001b[38;5;241m.\u001b[39muntil(EC\u001b[38;5;241m.\u001b[39mvisibility_of(driver\u001b[38;5;241m.\u001b[39mfind_element((By\u001b[38;5;241m.\u001b[39mID, \u001b[38;5;124m'\u001b[39m\u001b[38;5;124mvob-form\u001b[39m\u001b[38;5;124m'\u001b[39m))))\n",
      "File \u001b[0;32m~/Projects/selenium-examples/venv/lib/python3.8/site-packages/selenium/webdriver/support/wait.py:89\u001b[0m, in \u001b[0;36mWebDriverWait.until\u001b[0;34m(self, method, message)\u001b[0m\n\u001b[1;32m     87\u001b[0m     \u001b[38;5;28;01mif\u001b[39;00m time\u001b[38;5;241m.\u001b[39mtime() \u001b[38;5;241m>\u001b[39m end_time:\n\u001b[1;32m     88\u001b[0m         \u001b[38;5;28;01mbreak\u001b[39;00m\n\u001b[0;32m---> 89\u001b[0m \u001b[38;5;28;01mraise\u001b[39;00m TimeoutException(message, screen, stacktrace)\n",
      "\u001b[0;31mTimeoutException\u001b[0m: Message: \n"
     ]
    }
   ],
   "source": [
    "from selenium.webdriver.support import expected_conditions as EC\n",
    "from selenium.webdriver.support.wait import WebDriverWait\n",
    "\n",
    "driver = webdriver.Chrome(service=Service(ChromeDriverManager().install()), options=options)\n",
    "driver.get(url)\n",
    "wait = WebDriverWait(driver, 30)\n",
    "\n",
    "\n",
    "# A few examples of expected conditions\n",
    "# see https://www.selenium.dev/selenium/docs/api/py/_modules/selenium/webdriver/support/expected_conditions.html\n",
    "\n",
    "\n",
    "# Determine if title is expected value. Return boolean\n",
    "is_title_expected = wait.until(EC.title_is(\"Rehab Centers for Drug & Alcohol Addiction - Treatment Information\"))\n",
    "\n",
    "\n",
    "# Determine if title has substring. Retrun boolean\n",
    "title_contains_expected_text = wait.until(EC.title_contains(\"Rehab Centers\"))\n",
    "\n",
    "\n",
    "# Determine whether an element has been added to the DOM.\n",
    "# It does not mean that the element must be visible. If located, return WebElement\n",
    "form_element = wait.until(EC.presence_of_element_located((By.ID, 'vob-form')))\n",
    "\n",
    "\n",
    "# Determine whether an element has been added to the DOM and is visible\n",
    "# Visible represents elements that can be displayed and are larger than 0 in width and height. Return boolean\n",
    "element_is_visible = wait.until(EC.visibility_of_element_located((By.ID, 'vob-form')))\n",
    "\n",
    "\n",
    "# Determine whether an element is visible (larger than 0 in width and height) and if so return the element.\n",
    "form_element = wait.until(EC.visibility_of(driver.find_element((By.ID, 'vob-form'))))\n",
    "\n",
    "\n",
    "# Determine whether AT LEAST 1 ELEMENT exists in dom in the tree. Return the list of elements if located.\n",
    "card_elements = wait.until(EC.presence_of_all_elements_located((By.CSS_SELECTOR,'.links-card')))\n",
    "\n",
    "\n",
    "# Determine whether AT LEAST 1 ELEMENT is visible on the page. Return the list of elements if located.\n",
    "card_elements = wait.until(EC.visibility_of_any_elements_located((By.CSS_SELECTOR,'.links-card')))\n",
    "\n",
    "\n",
    "driver.quit()"
   ]
  },
  {
   "cell_type": "code",
   "execution_count": null,
   "id": "9816f9dc",
   "metadata": {},
   "outputs": [],
   "source": []
  }
 ],
 "metadata": {
  "kernelspec": {
   "display_name": "Python 3 (ipykernel)",
   "language": "python",
   "name": "python3"
  },
  "language_info": {
   "codemirror_mode": {
    "name": "ipython",
    "version": 3
   },
   "file_extension": ".py",
   "mimetype": "text/x-python",
   "name": "python",
   "nbconvert_exporter": "python",
   "pygments_lexer": "ipython3",
   "version": "3.8.3"
  }
 },
 "nbformat": 4,
 "nbformat_minor": 5
}
